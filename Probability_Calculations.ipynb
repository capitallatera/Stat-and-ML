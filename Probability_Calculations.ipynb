{
  "nbformat": 4,
  "nbformat_minor": 0,
  "metadata": {
    "colab": {
      "name": "Probability Calculations.ipynb",
      "provenance": [],
      "collapsed_sections": [],
      "authorship_tag": "ABX9TyMPT8kBokPlsDtw2e2cHxIo",
      "include_colab_link": true
    },
    "kernelspec": {
      "name": "python3",
      "display_name": "Python 3"
    }
  },
  "cells": [
    {
      "cell_type": "markdown",
      "metadata": {
        "id": "view-in-github",
        "colab_type": "text"
      },
      "source": [
        "<a href=\"https://colab.research.google.com/github/capitallatera/Stat-and-ML/blob/main/Probability_Calculations.ipynb\" target=\"_parent\"><img src=\"https://colab.research.google.com/assets/colab-badge.svg\" alt=\"Open In Colab\"/></a>"
      ]
    },
    {
      "cell_type": "code",
      "metadata": {
        "id": "FVvHolHf46-Z"
      },
      "source": [
        "import numpy as np\n",
        "import random"
      ],
      "execution_count": 2,
      "outputs": []
    },
    {
      "cell_type": "code",
      "metadata": {
        "colab": {
          "base_uri": "https://localhost:8080/"
        },
        "id": "6mm-N28-5Dmw",
        "outputId": "f06bac52-6112-4495-b230-72743ac19d80"
      },
      "source": [
        "# Function for rolling the dice\n",
        "def roll_the_dice(n_simulations=100000):\n",
        "  count=0\n",
        "  \n",
        "  #Each iteration of \"for\" loop is the trail\n",
        "  for i in range(n_simulations):\n",
        "    \n",
        "    #Roll each dice\n",
        "    die1=random.randint(1,6)\n",
        "    die2=random.randint(1,6)\n",
        "\n",
        "    #Sum the values to get the score\n",
        "    score=die1+die2\n",
        "\n",
        "    #Decide if we should add it to the count\n",
        "    if ((score%2==0)or (score>7)):    \n",
        "      count+=1\n",
        "  return count/n_simulations\n",
        "\n",
        "string =\"The probability of getting an even number or greater than 7 is:\"\n",
        "print(string,np.round(roll_the_dice()*100,2),\"%\")"
      ],
      "execution_count": 3,
      "outputs": [
        {
          "output_type": "stream",
          "text": [
            "The probability of rolling an even number or greater than 7 is: 66.87 %\n"
          ],
          "name": "stdout"
        }
      ]
    },
    {
      "cell_type": "code",
      "metadata": {
        "id": "rDxbs6mv5ED7"
      },
      "source": [
        "#A box contains 12 transistors of type A and 18 of type B.\n",
        "#One transistor is taken out at random and returned.\n",
        "#This process is repeated.\n",
        "#Determine the probabiltiy that the first chosen is type A and second is type B.\n",
        "import random\n",
        "trails =10000 # total number of trails\n",
        "totalA=12 # total number of A transistors\n",
        "totalB=18 # total number of B transistors\n",
        "\n",
        "successes=0 # variable keeping track of how many successful pulls there were\n",
        "choicelist=list(\"A\" * totalA +\"B\" * totalB) # list containing transsistors to correct \n",
        "\n",
        "def transistor():\n",
        "  return random.choice(choicelist) #pick a random transisstor from list\n",
        "for i in range(trails):\n",
        "  try1=transistor()\n",
        "  try2=transistor()\n",
        "  if try1==\"A\" and try2 ==\"B\": # if first pul is typeA and second is type B ...    \n",
        "    successes+=1 # ...then it's successful\n",
        "print(float(successes)/trails) #print out the proportion of successes to trails"
      ],
      "execution_count": 8,
      "outputs": []
    },
    {
      "cell_type": "markdown",
      "metadata": {
        "id": "6b3_Yv1oDkZQ"
      },
      "source": [
        "Binomial Probability Calculations & Distributions"
      ]
    },
    {
      "cell_type": "code",
      "metadata": {
        "colab": {
          "base_uri": "https://localhost:8080/"
        },
        "id": "CXIkXNLG5EVA",
        "outputId": "161cedbd-3a10-4d8e-cb98-24c1fc1ea9c1"
      },
      "source": [
        "# Syntax: numpy.random.binomial(n,p,size=None)\n",
        "#result of flipping a coin 10 times,tested 1000 times.\n",
        "\n",
        "n,p=10, .5 # number of trails, probability of each trial\n",
        "s=np.random.binomial(n,p,1000)\n",
        "print(s)"
      ],
      "execution_count": 13,
      "outputs": [
        {
          "output_type": "stream",
          "text": [
            "[6 7 3 4 6 3 3 5 6 4 8 6 3 5 6 4 4 5 4 7 4 5 5 1 7 3 5 8 3 4 4 6 4 7 4 3 6\n",
            " 7 5 6 6 5 5 8 6 4 4 3 4 7 3 3 3 5 4 8 7 5 7 6 3 6 7 8 2 6 3 3 5 8 1 3 5 6\n",
            " 4 2 5 7 6 6 4 5 3 5 6 8 4 5 3 7 7 5 6 2 7 7 5 5 7 7 6 2 6 4 8 7 5 5 7 5 6\n",
            " 4 6 4 7 2 4 7 6 6 1 5 2 7 3 7 5 3 1 8 6 4 6 8 3 7 6 9 4 2 5 6 6 5 5 8 6 3\n",
            " 6 2 7 5 5 6 3 6 3 4 5 4 7 8 4 5 3 7 4 5 3 5 7 4 3 5 6 8 4 6 4 4 5 7 8 4 5\n",
            " 5 8 3 7 4 5 3 5 4 8 1 6 5 5 3 4 6 6 7 8 5 8 5 4 6 5 5 5 3 4 5 6 3 3 5 6 1\n",
            " 6 3 4 3 3 3 6 6 4 5 6 4 4 6 4 7 3 4 7 8 5 2 6 4 4 5 5 6 7 4 7 7 3 6 4 5 5\n",
            " 5 4 4 6 6 4 7 5 5 4 6 6 2 4 5 4 8 4 3 2 7 5 8 4 3 3 6 3 3 4 5 3 4 6 7 5 5\n",
            " 4 5 6 4 7 5 4 2 7 4 4 4 5 7 5 4 6 3 7 6 6 7 5 6 4 3 4 4 6 6 5 6 5 4 6 5 4\n",
            " 4 4 6 4 6 8 5 7 5 7 5 5 4 5 6 5 4 4 2 7 4 3 5 7 4 4 5 2 6 6 6 6 5 3 7 5 8\n",
            " 4 6 5 6 6 4 6 5 4 6 3 4 4 3 4 6 5 8 6 5 3 7 8 6 6 3 3 7 4 6 3 5 4 4 5 8 3\n",
            " 6 4 4 5 7 5 5 5 8 2 5 5 4 6 6 5 3 7 4 4 6 6 5 5 5 8 6 5 6 4 7 6 6 3 1 3 2\n",
            " 7 6 7 8 3 5 3 7 4 4 6 8 6 4 5 2 3 4 4 7 4 7 4 8 3 6 3 6 5 6 4 8 4 5 8 3 6\n",
            " 7 8 4 8 5 3 4 4 5 2 6 8 7 5 4 5 5 7 7 3 4 6 6 6 4 5 7 4 6 4 5 3 4 6 4 3 8\n",
            " 6 7 2 6 8 8 4 1 6 7 3 5 5 4 7 7 5 3 5 7 4 4 6 5 5 4 4 2 8 6 3 6 3 5 3 6 5\n",
            " 6 4 5 2 5 3 4 5 4 5 3 3 6 5 4 4 6 6 6 7 5 5 5 5 4 4 7 5 3 5 3 5 4 5 7 4 7\n",
            " 6 7 5 4 5 7 4 5 5 3 3 5 5 6 9 5 5 2 5 3 5 4 6 6 7 3 5 3 8 7 6 7 6 6 4 5 6\n",
            " 8 7 4 6 4 7 7 4 5 3 5 4 3 6 5 5 4 3 7 5 7 5 4 5 2 7 2 6 7 5 6 7 6 3 8 4 7\n",
            " 4 3 6 3 4 4 7 4 4 4 3 3 7 6 3 2 5 5 7 8 6 6 8 6 5 4 3 8 6 8 7 5 7 9 4 2 6\n",
            " 5 6 7 2 5 6 6 5 6 6 7 8 6 2 7 6 3 5 5 4 6 4 5 6 2 2 3 5 5 6 4 4 3 3 3 7 5\n",
            " 3 6 5 4 1 5 3 3 6 6 8 6 4 5 7 5 4 8 5 6 7 4 4 8 5 4 3 6 8 5 5 4 4 9 5 4 6\n",
            " 3 3 5 5 5 4 5 6 7 4 5 6 3 5 5 3 7 4 5 3 0 8 5 5 5 5 5 3 5 7 5 5 7 5 7 5 7\n",
            " 5 3 4 9 7 5 5 8 6 6 4 4 4 7 4 9 7 4 5 3 5 5 4 6 4 5 6 4 5 4 6 3 5 2 8 4 7\n",
            " 5 4 7 5 4 5 4 5 2 3 5 2 6 4 6 4 6 3 4 3 3 6 3 7 6 3 6 5 5 5 5 4 5 3 5 9 4\n",
            " 5 6 7 3 6 6 6 5 5 5 4 5 4 6 4 4 3 6 6 7 6 7 7 5 3 2 5 7 5 6 7 6 6 6 4 3 4\n",
            " 8 6 4 7 4 5 5 6 6 3 3 6 3 5 4 4 8 7 4 3 4 8 6 5 8 4 5 5 3 8 6 7 5 5 4 5 4\n",
            " 5 5 6 7 9 5 4 7 4 5 5 5 7 2 9 6 5 4 4 3 5 6 4 5 6 7 5 7 4 5 5 6 7 6 6 4 5\n",
            " 8]\n"
          ],
          "name": "stdout"
        }
      ]
    },
    {
      "cell_type": "code",
      "metadata": {
        "id": "543ABbZD5EXZ"
      },
      "source": [
        "#A real world example. A company drills 9 wild-cat oil explorationn wells,\n",
        "#each with an estimated probability of success of 0.10 All nine wells fail.\n",
        "#What is the probability of that happening?\n",
        "#Let's do 20,000 trails of the model,and count the number that generate zero positive result"
      ],
      "execution_count": null,
      "outputs": []
    },
    {
      "cell_type": "code",
      "metadata": {
        "colab": {
          "base_uri": "https://localhost:8080/"
        },
        "id": "rOv-EF7gEZnY",
        "outputId": "3aff4cfa-2010-4836-ab0a-019435a8d2ef"
      },
      "source": [
        "sum(np.random.binomial(9,0.1,20000)==0)/20000"
      ],
      "execution_count": 14,
      "outputs": [
        {
          "output_type": "execute_result",
          "data": {
            "text/plain": [
              "0.3886"
            ]
          },
          "metadata": {
            "tags": []
          },
          "execution_count": 14
        }
      ]
    },
    {
      "cell_type": "code",
      "metadata": {
        "colab": {
          "base_uri": "https://localhost:8080/",
          "height": 354
        },
        "id": "kv7IFTojEZwK",
        "outputId": "d333099e-786d-44d6-8431-73df1a785076"
      },
      "source": [
        "#Binomial Probability Distribution\n",
        "\n",
        "from scipy.stats import binom\n",
        "import seaborn as sns\n",
        "binom.rvs(n=10,p=0.5)\n",
        "binom.rvs(size=5,n=10,p=0.5)\n",
        "\n",
        "data_binom=binom.rvs(n=10,p=0.5,size=10000)\n",
        "ax=sns.distplot(data_binom,\n",
        "                kde=False,\n",
        "                color=\"skyblue\",\n",
        "                hist_kws={\"linewidth\":15,\"alpha\":1})\n",
        "ax.set(xlabel=\"Binomial\",ylabel=\"Frequency\")"
      ],
      "execution_count": 16,
      "outputs": [
        {
          "output_type": "stream",
          "text": [
            "/usr/local/lib/python3.6/dist-packages/seaborn/distributions.py:2551: FutureWarning: `distplot` is a deprecated function and will be removed in a future version. Please adapt your code to use either `displot` (a figure-level function with similar flexibility) or `histplot` (an axes-level function for histograms).\n",
            "  warnings.warn(msg, FutureWarning)\n"
          ],
          "name": "stderr"
        },
        {
          "output_type": "execute_result",
          "data": {
            "text/plain": [
              "[Text(0, 0.5, 'Frequency'), Text(0.5, 0, 'Binomial')]"
            ]
          },
          "metadata": {
            "tags": []
          },
          "execution_count": 16
        },
        {
          "output_type": "display_data",
          "data": {
            "image/png": "[encoded data removed]",
            "text/plain": [
              "<Figure size 432x288 with 1 Axes>"
            ]
          },
          "metadata": {
            "tags": [],
            "needs_background": "light"
          }
        }
      ]
    },
    {
      "cell_type": "markdown",
      "metadata": {
        "id": "jaz6hpf3HXQH"
      },
      "source": [
        "Poission Probability Calculations & Distributions"
      ]
    },
    {
      "cell_type": "code",
      "metadata": {
        "colab": {
          "base_uri": "https://localhost:8080/",
          "height": 265
        },
        "id": "YAwy3N-gEZyq",
        "outputId": "9009c338-9e3f-4dfc-e32e-35a2edeab302"
      },
      "source": [
        "import matplotlib.pyplot as plt\n",
        "\n",
        "gaussian=np.random.normal(0.5,2*np.sqrt(2*np.log(2)),1000)\n",
        "poisson=np.random.poisson(0.5,1000)\n",
        "\n",
        "plt.hist(gaussian)\n",
        "plt.hist(poisson)\n",
        "plt.show()"
      ],
      "execution_count": 17,
      "outputs": [
        {
          "output_type": "display_data",
          "data": {
            "image/png": "[encoded data removed]",
            "text/plain": [
              "<Figure size 432x288 with 1 Axes>"
            ]
          },
          "metadata": {
            "tags": [],
            "needs_background": "light"
          }
        }
      ]
    },
    {
      "cell_type": "code",
      "metadata": {
        "colab": {
          "base_uri": "https://localhost:8080/",
          "height": 372
        },
        "id": "uE0Fst1JEZ1j",
        "outputId": "accf7710-f94b-45ce-eccf-bac8c92604b5"
      },
      "source": [
        "from scipy.stats import poisson\n",
        "import seaborn as sns\n",
        "\n",
        "data_binom=poisson.rvs(mu=4,size=10000)\n",
        "print(data_binom)\n",
        "ax=sns.distplot(data_binom,\n",
        "               kde=True,\n",
        "               color=\"green\",\n",
        "               hist_kws={\"linewidth\":25,\"alpha\":1})\n",
        "ax.set(xlabel=\"Poisson\",ylabel=\"Frequency\")"
      ],
      "execution_count": 19,
      "outputs": [
        {
          "output_type": "stream",
          "text": [
            "[5 2 6 ... 5 2 3]\n"
          ],
          "name": "stdout"
        },
        {
          "output_type": "stream",
          "text": [
            "/usr/local/lib/python3.6/dist-packages/seaborn/distributions.py:2551: FutureWarning: `distplot` is a deprecated function and will be removed in a future version. Please adapt your code to use either `displot` (a figure-level function with similar flexibility) or `histplot` (an axes-level function for histograms).\n",
            "  warnings.warn(msg, FutureWarning)\n"
          ],
          "name": "stderr"
        },
        {
          "output_type": "execute_result",
          "data": {
            "text/plain": [
              "[Text(0, 0.5, 'Frequency'), Text(0.5, 0, 'Poisson')]"
            ]
          },
          "metadata": {
            "tags": []
          },
          "execution_count": 19
        },
        {
          "output_type": "display_data",
          "data": {
            "image/png": "[encoded data removed]",
            "text/plain": [
              "<Figure size 432x288 with 1 Axes>"
            ]
          },
          "metadata": {
            "tags": [],
            "needs_background": "light"
          }
        }
      ]
    },
    {
      "cell_type": "code",
      "metadata": {
        "colab": {
          "base_uri": "https://localhost:8080/"
        },
        "id": "ou2xVGGDEZ4W",
        "outputId": "617b4e07-a1b2-4e2e-d27c-b248006f7c1a"
      },
      "source": [
        "# Syntax: numpy.random.poisson(lam=1.0,size=None)\n",
        "\n",
        "import numpy as np\n",
        "s=np.random.poisson(5,10000)\n",
        "print(s)"
      ],
      "execution_count": 20,
      "outputs": [
        {
          "output_type": "stream",
          "text": [
            "[10  3  4 ...  4  5  4]\n"
          ],
          "name": "stdout"
        }
      ]
    },
    {
      "cell_type": "code",
      "metadata": {
        "colab": {
          "base_uri": "https://localhost:8080/",
          "height": 265
        },
        "id": "20HfWYBQLT3T",
        "outputId": "8ec2fd98-384f-4cbd-ecb5-88816607c74e"
      },
      "source": [
        "import matplotlib.pyplot as plt\n",
        "count,bins,ignored=plt.hist(s,14,)\n",
        "plt.show()"
      ],
      "execution_count": 22,
      "outputs": [
        {
          "output_type": "display_data",
          "data": {
            "image/png": "[encoded data removed]",
            "text/plain": [
              "<Figure size 432x288 with 1 Axes>"
            ]
          },
          "metadata": {
            "tags": [],
            "needs_background": "light"
          }
        }
      ]
    },
    {
      "cell_type": "code",
      "metadata": {
        "colab": {
          "base_uri": "https://localhost:8080/",
          "height": 295
        },
        "id": "JuhUA7pRLUHG",
        "outputId": "409b7dec-3aba-4dfa-ad03-badf1eb9f9dc"
      },
      "source": [
        "from scipy.stats import poisson\n",
        "import matplotlib.pyplot as plt\n",
        "plt.ylabel(\"Probability of car passing\")\n",
        "plt.xlabel(\"Number of cars\")\n",
        "plt.title(\"Probability Distribution Curve\")\n",
        "arr=[]\n",
        "rv=poisson(25)\n",
        "for num in range(0,40):\n",
        "  arr.append(rv.pmf(num))\n",
        "\n",
        "#print(rv.pmf(28))\n",
        "prob=rv.pmf(28)\n",
        "plt.grid(True)\n",
        "plt.plot(arr,linewidth=2.0)\n",
        "plt.plot([28],[prob],marker=\"o\",markersize=6,color=\"red\")\n",
        "plt.show()"
      ],
      "execution_count": 23,
      "outputs": [
        {
          "output_type": "display_data",
          "data": {
            "image/png": "[encoded data removed]",
            "text/plain": [
              "<Figure size 432x288 with 1 Axes>"
            ]
          },
          "metadata": {
            "tags": [],
            "needs_background": "light"
          }
        }
      ]
    },
    {
      "cell_type": "code",
      "metadata": {
        "id": "jEUsRkasLUPZ"
      },
      "source": [
        ""
      ],
      "execution_count": null,
      "outputs": []
    }
  ]
}